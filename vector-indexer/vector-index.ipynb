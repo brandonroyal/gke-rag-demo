{
 "cells": [
  {
   "cell_type": "code",
   "execution_count": null,
   "metadata": {},
   "outputs": [],
   "source": [
    "%pip install langchain"
   ]
  },
  {
   "cell_type": "code",
   "execution_count": 9,
   "metadata": {},
   "outputs": [],
   "source": [
    "import os\n",
    "from langchain.document_loaders import WebBaseLoader\n",
    "from langchain.text_splitter import RecursiveCharacterTextSplitter\n",
    "from langchain.embeddings import HuggingFaceEmbeddings\n",
    "from langchain.vectorstores.pgvector import PGVector"
   ]
  },
  {
   "cell_type": "code",
   "execution_count": 2,
   "metadata": {},
   "outputs": [],
   "source": [
    "#move to parameter\n",
    "urls = [\"https://kubernetes.io/docs/concepts/workloads/controllers/deployment/\"]\n",
    "\n",
    "#loads document from url\n",
    "loader = WebBaseLoader(urls)\n",
    "documents = loader.load()"
   ]
  },
  {
   "cell_type": "code",
   "execution_count": 3,
   "metadata": {},
   "outputs": [
    {
     "name": "stdout",
     "output_type": "stream",
     "text": [
      "79 chunks in 1 pages\n"
     ]
    }
   ],
   "source": [
    "# Chunk all the kubernetes concept documents\n",
    "text_splitter = RecursiveCharacterTextSplitter(chunk_size=1000, chunk_overlap=20)\n",
    "docs = text_splitter.split_documents(documents)\n",
    "\n",
    "print(\"%s chunks in %s pages\" % (len(docs), len(documents)))"
   ]
  },
  {
   "cell_type": "code",
   "execution_count": 4,
   "metadata": {},
   "outputs": [],
   "source": [
    "# Load sentence transformer embeddings\n",
    "model_name = \"sentence-transformers/all-mpnet-base-v2\"\n",
    "model_kwargs = {\"device\":\"cpu\"} # use {\"device\":\"cuda\"} for distributed embeddings\n",
    "\n",
    "embeddings = HuggingFaceEmbeddings(model_name=model_name, model_kwargs=model_kwargs)"
   ]
  },
  {
   "cell_type": "code",
   "execution_count": 10,
   "metadata": {},
   "outputs": [],
   "source": [
    "CONNECTION_STRING = PGVector.connection_string_from_db_params(\n",
    "    driver=os.environ.get(\"PGVECTOR_DRIVER\", \"psycopg2\"),\n",
    "    host=os.environ.get(\"PGVECTOR_HOST\", \"localhost\"),\n",
    "    port=int(os.environ.get(\"PGVECTOR_PORT\", \"5432\")),\n",
    "    database=os.environ.get(\"PGVECTOR_DATABASE\", \"postgres\"),\n",
    "    user=os.environ.get(\"PGVECTOR_USER\", \"postgres\"),\n",
    "    password=os.environ.get(\"PGVECTOR_PASSWORD\", \"secretpassword\"),\n",
    ")"
   ]
  },
  {
   "cell_type": "code",
   "execution_count": 11,
   "metadata": {},
   "outputs": [
    {
     "data": {
      "text/plain": [
       "['ed61a314-76ce-11ee-98e6-0242ac110004',\n",
       " 'ed61a594-76ce-11ee-98e6-0242ac110004',\n",
       " 'ed61a62a-76ce-11ee-98e6-0242ac110004',\n",
       " 'ed61a6b6-76ce-11ee-98e6-0242ac110004',\n",
       " 'ed61a72e-76ce-11ee-98e6-0242ac110004',\n",
       " 'ed61a7a6-76ce-11ee-98e6-0242ac110004',\n",
       " 'ed61a81e-76ce-11ee-98e6-0242ac110004',\n",
       " 'ed61a896-76ce-11ee-98e6-0242ac110004',\n",
       " 'ed61a904-76ce-11ee-98e6-0242ac110004',\n",
       " 'ed61a97c-76ce-11ee-98e6-0242ac110004',\n",
       " 'ed61a9ea-76ce-11ee-98e6-0242ac110004',\n",
       " 'ed61aa58-76ce-11ee-98e6-0242ac110004',\n",
       " 'ed61aad0-76ce-11ee-98e6-0242ac110004',\n",
       " 'ed61ab48-76ce-11ee-98e6-0242ac110004',\n",
       " 'ed61abb6-76ce-11ee-98e6-0242ac110004',\n",
       " 'ed61ac24-76ce-11ee-98e6-0242ac110004',\n",
       " 'ed61ac92-76ce-11ee-98e6-0242ac110004',\n",
       " 'ed61ad0a-76ce-11ee-98e6-0242ac110004',\n",
       " 'ed61ad78-76ce-11ee-98e6-0242ac110004',\n",
       " 'ed61adf0-76ce-11ee-98e6-0242ac110004',\n",
       " 'ed61ae68-76ce-11ee-98e6-0242ac110004',\n",
       " 'ed61aee0-76ce-11ee-98e6-0242ac110004',\n",
       " 'ed61af4e-76ce-11ee-98e6-0242ac110004',\n",
       " 'ed61afbc-76ce-11ee-98e6-0242ac110004',\n",
       " 'ed61b034-76ce-11ee-98e6-0242ac110004',\n",
       " 'ed61b0c0-76ce-11ee-98e6-0242ac110004',\n",
       " 'ed61b14c-76ce-11ee-98e6-0242ac110004',\n",
       " 'ed61b1ce-76ce-11ee-98e6-0242ac110004',\n",
       " 'ed61b23c-76ce-11ee-98e6-0242ac110004',\n",
       " 'ed61b2aa-76ce-11ee-98e6-0242ac110004',\n",
       " 'ed61b318-76ce-11ee-98e6-0242ac110004',\n",
       " 'ed61b3c2-76ce-11ee-98e6-0242ac110004',\n",
       " 'ed61b430-76ce-11ee-98e6-0242ac110004',\n",
       " 'ed61b49e-76ce-11ee-98e6-0242ac110004',\n",
       " 'ed61b516-76ce-11ee-98e6-0242ac110004',\n",
       " 'ed61b584-76ce-11ee-98e6-0242ac110004',\n",
       " 'ed61b5f2-76ce-11ee-98e6-0242ac110004',\n",
       " 'ed61b66a-76ce-11ee-98e6-0242ac110004',\n",
       " 'ed61b6d8-76ce-11ee-98e6-0242ac110004',\n",
       " 'ed61b750-76ce-11ee-98e6-0242ac110004',\n",
       " 'ed61b7be-76ce-11ee-98e6-0242ac110004',\n",
       " 'ed61b836-76ce-11ee-98e6-0242ac110004',\n",
       " 'ed61b962-76ce-11ee-98e6-0242ac110004',\n",
       " 'ed61ba20-76ce-11ee-98e6-0242ac110004',\n",
       " 'ed61bad4-76ce-11ee-98e6-0242ac110004',\n",
       " 'ed61bb7e-76ce-11ee-98e6-0242ac110004',\n",
       " 'ed61bbec-76ce-11ee-98e6-0242ac110004',\n",
       " 'ed61bc64-76ce-11ee-98e6-0242ac110004',\n",
       " 'ed61bcdc-76ce-11ee-98e6-0242ac110004',\n",
       " 'ed61bd54-76ce-11ee-98e6-0242ac110004',\n",
       " 'ed61bdcc-76ce-11ee-98e6-0242ac110004',\n",
       " 'ed61be4e-76ce-11ee-98e6-0242ac110004',\n",
       " 'ed61bec6-76ce-11ee-98e6-0242ac110004',\n",
       " 'ed61bf34-76ce-11ee-98e6-0242ac110004',\n",
       " 'ed61bfa2-76ce-11ee-98e6-0242ac110004',\n",
       " 'ed61c01a-76ce-11ee-98e6-0242ac110004',\n",
       " 'ed61c092-76ce-11ee-98e6-0242ac110004',\n",
       " 'ed61c10a-76ce-11ee-98e6-0242ac110004',\n",
       " 'ed61c182-76ce-11ee-98e6-0242ac110004',\n",
       " 'ed61c1e6-76ce-11ee-98e6-0242ac110004',\n",
       " 'ed61c272-76ce-11ee-98e6-0242ac110004',\n",
       " 'ed61c2e0-76ce-11ee-98e6-0242ac110004',\n",
       " 'ed61c358-76ce-11ee-98e6-0242ac110004',\n",
       " 'ed61c3da-76ce-11ee-98e6-0242ac110004',\n",
       " 'ed61c448-76ce-11ee-98e6-0242ac110004',\n",
       " 'ed61c4c0-76ce-11ee-98e6-0242ac110004',\n",
       " 'ed61c538-76ce-11ee-98e6-0242ac110004',\n",
       " 'ed61c5a6-76ce-11ee-98e6-0242ac110004',\n",
       " 'ed61c614-76ce-11ee-98e6-0242ac110004',\n",
       " 'ed61c682-76ce-11ee-98e6-0242ac110004',\n",
       " 'ed61c6f0-76ce-11ee-98e6-0242ac110004',\n",
       " 'ed61c768-76ce-11ee-98e6-0242ac110004',\n",
       " 'ed61c7d6-76ce-11ee-98e6-0242ac110004',\n",
       " 'ed61c844-76ce-11ee-98e6-0242ac110004',\n",
       " 'ed61c8b2-76ce-11ee-98e6-0242ac110004',\n",
       " 'ed61c920-76ce-11ee-98e6-0242ac110004',\n",
       " 'ed61c98e-76ce-11ee-98e6-0242ac110004',\n",
       " 'ed61ca2e-76ce-11ee-98e6-0242ac110004',\n",
       " 'ed61cab0-76ce-11ee-98e6-0242ac110004']"
      ]
     },
     "execution_count": 11,
     "metadata": {},
     "output_type": "execute_result"
    }
   ],
   "source": [
    "COLLECTION_NAME = \"kubernetes_concepts\"\n",
    "\n",
    "db = PGVector(\n",
    "    collection_name=COLLECTION_NAME,\n",
    "    connection_string=CONNECTION_STRING,\n",
    "    embedding_function=embeddings,\n",
    ")\n",
    "\n",
    "db.add_documents(docs)"
   ]
  }
 ],
 "metadata": {
  "kernelspec": {
   "display_name": "Python 3",
   "language": "python",
   "name": "python3"
  },
  "language_info": {
   "codemirror_mode": {
    "name": "ipython",
    "version": 3
   },
   "file_extension": ".py",
   "mimetype": "text/x-python",
   "name": "python",
   "nbconvert_exporter": "python",
   "pygments_lexer": "ipython3",
   "version": "3.10.7"
  },
  "orig_nbformat": 4
 },
 "nbformat": 4,
 "nbformat_minor": 2
}
