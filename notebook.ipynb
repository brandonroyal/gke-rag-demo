{
 "cells": [
  {
   "cell_type": "code",
   "execution_count": 1,
   "metadata": {},
   "outputs": [
    {
     "name": "stdout",
     "output_type": "stream",
     "text": [
      "Defaulting to user installation because normal site-packages is not writeable\n",
      "Requirement already satisfied: langchain in /home/user/.local/lib/python3.10/site-packages (0.0.340)\n",
      "Requirement already satisfied: pgvector in /home/user/.local/lib/python3.10/site-packages (0.2.3)\n",
      "Requirement already satisfied: psycopg2-binary in /home/user/.local/lib/python3.10/site-packages (2.9.6)\n",
      "Requirement already satisfied: tiktoken in /home/user/.local/lib/python3.10/site-packages (0.5.1)\n",
      "Requirement already satisfied: kubernetes in /home/user/.local/lib/python3.10/site-packages (28.1.0)\n",
      "Requirement already satisfied: PyYAML>=5.3 in /home/user/.local/lib/python3.10/site-packages (from langchain) (6.0.1)\n",
      "Requirement already satisfied: SQLAlchemy<3,>=1.4 in /home/user/.local/lib/python3.10/site-packages (from langchain) (1.4.50)\n",
      "Requirement already satisfied: aiohttp<4.0.0,>=3.8.3 in /home/user/.local/lib/python3.10/site-packages (from langchain) (3.8.6)\n",
      "Requirement already satisfied: anyio<4.0 in /home/user/.local/lib/python3.10/site-packages (from langchain) (3.7.1)\n",
      "Requirement already satisfied: async-timeout<5.0.0,>=4.0.0 in /home/user/.local/lib/python3.10/site-packages (from langchain) (4.0.3)\n",
      "Requirement already satisfied: dataclasses-json<0.7,>=0.5.7 in /home/user/.local/lib/python3.10/site-packages (from langchain) (0.6.1)\n",
      "Requirement already satisfied: jsonpatch<2.0,>=1.33 in /home/user/.local/lib/python3.10/site-packages (from langchain) (1.33)\n",
      "Requirement already satisfied: langsmith<0.1.0,>=0.0.63 in /home/user/.local/lib/python3.10/site-packages (from langchain) (0.0.66)\n",
      "Requirement already satisfied: numpy<2,>=1 in /home/user/.local/lib/python3.10/site-packages (from langchain) (1.26.1)\n",
      "Requirement already satisfied: pydantic<3,>=1 in /home/user/.local/lib/python3.10/site-packages (from langchain) (1.10.13)\n",
      "Requirement already satisfied: requests<3,>=2 in /home/user/.local/lib/python3.10/site-packages (from langchain) (2.31.0)\n",
      "Requirement already satisfied: tenacity<9.0.0,>=8.1.0 in /home/user/.local/lib/python3.10/site-packages (from langchain) (8.2.3)\n",
      "Requirement already satisfied: regex>=2022.1.18 in /home/user/.local/lib/python3.10/site-packages (from tiktoken) (2023.10.3)\n",
      "Requirement already satisfied: certifi>=14.05.14 in /home/user/.local/lib/python3.10/site-packages (from kubernetes) (2023.7.22)\n",
      "Requirement already satisfied: six>=1.9.0 in /home/user/.local/lib/python3.10/site-packages (from kubernetes) (1.16.0)\n",
      "Requirement already satisfied: python-dateutil>=2.5.3 in /home/user/.local/lib/python3.10/site-packages (from kubernetes) (2.8.2)\n",
      "Requirement already satisfied: google-auth>=1.0.1 in /home/user/.local/lib/python3.10/site-packages (from kubernetes) (2.23.3)\n",
      "Requirement already satisfied: websocket-client!=0.40.0,!=0.41.*,!=0.42.*,>=0.32.0 in /home/user/.local/lib/python3.10/site-packages (from kubernetes) (1.6.4)\n",
      "Requirement already satisfied: requests-oauthlib in /home/user/.local/lib/python3.10/site-packages (from kubernetes) (1.3.1)\n",
      "Requirement already satisfied: oauthlib>=3.2.2 in /home/user/.local/lib/python3.10/site-packages (from kubernetes) (3.2.2)\n",
      "Requirement already satisfied: urllib3<2.0,>=1.24.2 in /home/user/.local/lib/python3.10/site-packages (from kubernetes) (1.26.18)\n",
      "Requirement already satisfied: attrs>=17.3.0 in /home/user/.local/lib/python3.10/site-packages (from aiohttp<4.0.0,>=3.8.3->langchain) (23.1.0)\n",
      "Requirement already satisfied: charset-normalizer<4.0,>=2.0 in /home/user/.local/lib/python3.10/site-packages (from aiohttp<4.0.0,>=3.8.3->langchain) (3.3.1)\n",
      "Requirement already satisfied: multidict<7.0,>=4.5 in /home/user/.local/lib/python3.10/site-packages (from aiohttp<4.0.0,>=3.8.3->langchain) (6.0.4)\n",
      "Requirement already satisfied: yarl<2.0,>=1.0 in /home/user/.local/lib/python3.10/site-packages (from aiohttp<4.0.0,>=3.8.3->langchain) (1.9.2)\n",
      "Requirement already satisfied: frozenlist>=1.1.1 in /home/user/.local/lib/python3.10/site-packages (from aiohttp<4.0.0,>=3.8.3->langchain) (1.4.0)\n",
      "Requirement already satisfied: aiosignal>=1.1.2 in /home/user/.local/lib/python3.10/site-packages (from aiohttp<4.0.0,>=3.8.3->langchain) (1.3.1)\n",
      "Requirement already satisfied: idna>=2.8 in /home/user/.local/lib/python3.10/site-packages (from anyio<4.0->langchain) (3.4)\n",
      "Requirement already satisfied: sniffio>=1.1 in /home/user/.local/lib/python3.10/site-packages (from anyio<4.0->langchain) (1.3.0)\n",
      "Requirement already satisfied: exceptiongroup in /home/user/.local/lib/python3.10/site-packages (from anyio<4.0->langchain) (1.1.3)\n",
      "Requirement already satisfied: marshmallow<4.0.0,>=3.18.0 in /home/user/.local/lib/python3.10/site-packages (from dataclasses-json<0.7,>=0.5.7->langchain) (3.20.1)\n",
      "Requirement already satisfied: typing-inspect<1,>=0.4.0 in /home/user/.local/lib/python3.10/site-packages (from dataclasses-json<0.7,>=0.5.7->langchain) (0.9.0)\n",
      "Requirement already satisfied: cachetools<6.0,>=2.0.0 in /home/user/.local/lib/python3.10/site-packages (from google-auth>=1.0.1->kubernetes) (5.3.2)\n",
      "Requirement already satisfied: pyasn1-modules>=0.2.1 in /home/user/.local/lib/python3.10/site-packages (from google-auth>=1.0.1->kubernetes) (0.3.0)\n",
      "Requirement already satisfied: rsa<5,>=3.1.4 in /home/user/.local/lib/python3.10/site-packages (from google-auth>=1.0.1->kubernetes) (4.9)\n",
      "Requirement already satisfied: jsonpointer>=1.9 in /home/user/.local/lib/python3.10/site-packages (from jsonpatch<2.0,>=1.33->langchain) (2.4)\n",
      "Requirement already satisfied: typing-extensions>=4.2.0 in /home/user/.local/lib/python3.10/site-packages (from pydantic<3,>=1->langchain) (4.8.0)\n",
      "Requirement already satisfied: greenlet!=0.4.17 in /home/user/.local/lib/python3.10/site-packages (from SQLAlchemy<3,>=1.4->langchain) (3.0.0)\n",
      "Requirement already satisfied: packaging>=17.0 in /home/user/.local/lib/python3.10/site-packages (from marshmallow<4.0.0,>=3.18.0->dataclasses-json<0.7,>=0.5.7->langchain) (23.2)\n",
      "Requirement already satisfied: pyasn1<0.6.0,>=0.4.6 in /home/user/.local/lib/python3.10/site-packages (from pyasn1-modules>=0.2.1->google-auth>=1.0.1->kubernetes) (0.5.0)\n",
      "Requirement already satisfied: mypy-extensions>=0.3.0 in /home/user/.local/lib/python3.10/site-packages (from typing-inspect<1,>=0.4.0->dataclasses-json<0.7,>=0.5.7->langchain) (1.0.0)\n",
      "Note: you may need to restart the kernel to use updated packages.\n"
     ]
    }
   ],
   "source": [
    "%pip install langchain pgvector psycopg2-binary tiktoken kubernetes"
   ]
  },
  {
   "cell_type": "code",
   "execution_count": 9,
   "metadata": {},
   "outputs": [],
   "source": [
    "import os, json\n",
    "from langchain.llms import HuggingFacePipeline\n",
    "from langchain.llms import HuggingFaceTextGenInference\n",
    "from langchain.document_loaders import TextLoader\n",
    "from langchain.document_loaders import WebBaseLoader\n",
    "from langchain.text_splitter import RecursiveCharacterTextSplitter\n",
    "from langchain.embeddings import HuggingFaceEmbeddings\n",
    "from langchain.chains import RetrievalQA\n",
    "from langchain.vectorstores.pgvector import PGVector\n",
    "\n",
    "from kubernetes import client, config"
   ]
  },
  {
   "cell_type": "code",
   "execution_count": 20,
   "metadata": {},
   "outputs": [],
   "source": [
    "# get the ip address of our Mistral 7B inference service\n",
    "config.load_kube_config()\n",
    "api_instance = client.CoreV1Api()\n",
    "\n",
    "mistral_7b = api_instance.read_namespaced_service(name=\"mistral-7b-service\", namespace=\"default\")\n",
    "mistral_7b_ip = mistral_7b.status.load_balancer.ingress[0].ip"
   ]
  },
  {
   "cell_type": "code",
   "execution_count": 21,
   "metadata": {},
   "outputs": [
    {
     "data": {
      "text/plain": [
       "' A deployment in Kubernetes is a way to manage the lifecycle of a set of replicas of a pod. It allows you to specify the desired state of the deployment, including the number of replicas, the desired CPU and memory resources, and the container image to use. Kubernetes will then automatically manage the deployment, scaling it up or down as needed to meet the desired state. Deployments also provide rolling updates, which means that new versions of the pods are introduced gradually, with each new version replacing one of the old ones. This ensures that the application remains available during the update process.'"
      ]
     },
     "execution_count": 21,
     "metadata": {},
     "output_type": "execute_result"
    }
   ],
   "source": [
    "# test our Mistral 7B interface with langchain\n",
    "llm = HuggingFaceTextGenInference(\n",
    "    inference_server_url=f\"http://{mistral_7b_ip}\",\n",
    "    max_new_tokens=512,\n",
    "    top_k=10,\n",
    "    top_p=0.95,\n",
    "    typical_p=0.95,\n",
    "    temperature=0.01,\n",
    "    repetition_penalty=1.03,\n",
    ")\n",
    "llm(\"[INST] You are a helpful, respectful and honest assistant who is an expert in explaining Kubernetes concepts. Always answer as helpfully as possible, while being safe and keep your responses less than 200 words. What is a deployment?[/INST]\")"
   ]
  },
  {
   "cell_type": "code",
   "execution_count": 4,
   "metadata": {},
   "outputs": [],
   "source": [
    "# Load list of URLs -> kubernetes.io/docs/concepts/\n",
    "file1 = open('./data/k8s-urls.samples.txt', 'r')\n",
    "\n",
    "loader = WebBaseLoader(file1.readlines())\n",
    "documents = loader.load()"
   ]
  },
  {
   "cell_type": "code",
   "execution_count": 44,
   "metadata": {},
   "outputs": [
    {
     "name": "stdout",
     "output_type": "stream",
     "text": [
      "102 chunks in 2 pages\n"
     ]
    }
   ],
   "source": [
    "# Chunk all the kubernetes concept documents\n",
    "text_splitter = RecursiveCharacterTextSplitter(chunk_size=1000, chunk_overlap=20)\n",
    "docs = text_splitter.split_documents(documents)\n",
    "\n",
    "print(\"%s chunks in %s pages\" % (len(docs), len(documents)))"
   ]
  },
  {
   "cell_type": "code",
   "execution_count": 6,
   "metadata": {},
   "outputs": [],
   "source": [
    "# Load sentence transformer embeddings\n",
    "model_name = \"sentence-transformers/all-mpnet-base-v2\"\n",
    "model_kwargs = {\"device\":\"cpu\"} # use {\"device\":\"cuda\"} for distributed embeddings\n",
    "\n",
    "embeddings = HuggingFaceEmbeddings(model_name=model_name, model_kwargs=model_kwargs)"
   ]
  },
  {
   "cell_type": "code",
   "execution_count": 7,
   "metadata": {},
   "outputs": [],
   "source": [
    "# Connection string for connecting to Postgres\n",
    "CONNECTION_STRING = PGVector.connection_string_from_db_params(\n",
    "    driver=os.environ.get(\"PGVECTOR_DRIVER\", \"psycopg2\"),\n",
    "    host=os.environ.get(\"PGVECTOR_HOST\", \"localhost\"),\n",
    "    port=int(os.environ.get(\"PGVECTOR_PORT\", \"5432\")),\n",
    "    database=os.environ.get(\"PGVECTOR_DATABASE\", \"postgres\"),\n",
    "    user=os.environ.get(\"PGVECTOR_USER\", \"postgres\"),\n",
    "    password=os.environ.get(\"PGVECTOR_PASSWORD\", \"secretpassword\"),\n",
    ")"
   ]
  },
  {
   "cell_type": "code",
   "execution_count": 8,
   "metadata": {},
   "outputs": [
    {
     "name": "stdout",
     "output_type": "stream",
     "text": [
      "1.4.50\n"
     ]
    }
   ],
   "source": [
    "import sqlalchemy\n",
    "\n",
    "print(sqlalchemy.__version__)"
   ]
  },
  {
   "cell_type": "code",
   "execution_count": 41,
   "metadata": {},
   "outputs": [],
   "source": [
    "COLLECTION_NAME = \"k8s_concepts\"\n",
    "\n",
    "db = PGVector.from_documents(\n",
    "    embedding=embeddings,\n",
    "    documents=docs,\n",
    "    collection_name=COLLECTION_NAME,\n",
    "    connection_string=CONNECTION_STRING,\n",
    ")"
   ]
  },
  {
   "cell_type": "code",
   "execution_count": null,
   "metadata": {},
   "outputs": [],
   "source": [
    "# A better way with distributed jobs on Kubernetes - Queue Docs\n",
    "! sh ./queue-documents.sh -f './data/k8s-urls.txt' -t k8s_concepts"
   ]
  },
  {
   "cell_type": "code",
   "execution_count": null,
   "metadata": {},
   "outputs": [],
   "source": [
    "# A better way with distributed jobs on Kubernetes\n",
    "! sh ./deploy-indexer.sh"
   ]
  },
  {
   "cell_type": "code",
   "execution_count": 43,
   "metadata": {},
   "outputs": [
    {
     "name": "stdout",
     "output_type": "stream",
     "text": [
      "Query: What's a deployment?\n",
      "Retrieved documents: 4\n",
      "Source:  https://kubernetes.io/docs/concepts/workloads/controllers/deployment/\n",
      "Text:  Create an issue\n",
      " Print entire sectionUse CaseCreating a DeploymentPod-template-hash labelUpdating a DeploymentRollover (aka multiple updates in-flight)Label selector updatesRolling Back a DeploymentChecking Rollout History of a DeploymentRolling Back to a Previous RevisionScaling a DeploymentProportional scalingPausing and Resuming a rollout of a DeploymentDeployment statusProgressing DeploymentComplete DeploymentFailed DeploymentOperating on a failed deploymentClean up PolicyCanary DeploymentWriting a Deployment SpecPod TemplateReplicasSelectorStrategyProgress Deadline SecondsMin Ready SecondsRevision History LimitPausedWhat's nextDocumentation\n",
      "Blog\n",
      "Training\n",
      "Partners\n",
      "Community \n",
      "\n",
      "Source:  https://kubernetes.io/docs/concepts/workloads/controllers/deployment/\n",
      "Text:  Create an issue\n",
      " Print entire sectionUse CaseCreating a DeploymentPod-template-hash labelUpdating a DeploymentRollover (aka multiple updates in-flight)Label selector updatesRolling Back a DeploymentChecking Rollout History of a DeploymentRolling Back to a Previous RevisionScaling a DeploymentProportional scalingPausing and Resuming a rollout of a DeploymentDeployment statusProgressing DeploymentComplete DeploymentFailed DeploymentOperating on a failed deploymentClean up PolicyCanary DeploymentWriting a Deployment SpecPod TemplateReplicasSelectorStrategyProgress Deadline SecondsMin Ready SecondsRevision History LimitPausedWhat's nextDocumentation\n",
      "Blog\n",
      "Training\n",
      "Partners\n",
      "Community \n",
      "\n",
      "Source:  https://kubernetes.io/docs/concepts/workloads/controllers/deployment/\n",
      "Text:  Advanced contributing\n",
      "Viewing Site Analytics\n",
      "Docs smoke test pageKubernetes DocumentationConceptsWorkloadsWorkload ResourcesDeploymentsDeploymentsA Deployment manages a set of Pods to run an application workload, usually one that doesn't maintain state.A Deployment provides declarative updates for Pods and \n",
      "\n",
      "Source:  https://kubernetes.io/docs/concepts/workloads/controllers/deployment/\n",
      "Text:  Advanced contributing\n",
      "Viewing Site Analytics\n",
      "Docs smoke test pageKubernetes DocumentationConceptsWorkloadsWorkload ResourcesDeploymentsDeploymentsA Deployment manages a set of Pods to run an application workload, usually one that doesn't maintain state.A Deployment provides declarative updates for Pods and \n",
      "\n"
     ]
    }
   ],
   "source": [
    "query = \"What's a deployment?\" # \"Should I use gateway API in my app?\"\n",
    "docs = db.similarity_search(query)\n",
    "print(f\"Query: {query}\")\n",
    "print(f\"Retrieved documents: {len(docs)}\")\n",
    "for doc in docs:\n",
    "    doc_details = doc.to_json()['kwargs']\n",
    "    print(\"Source: \", doc_details['metadata']['source'])\n",
    "    print(\"Text: \", doc_details['page_content'], \"\\n\")"
   ]
  },
  {
   "cell_type": "code",
   "execution_count": 35,
   "metadata": {},
   "outputs": [],
   "source": [
    "from langchain.prompts import PromptTemplate\n",
    "prompt_template = \"\"\"[INST] You are a helpful, respectful and honest assistant who is an expert in explaining Kubernetes concepts. Always answer as helpfully as possible, while being safe.\n",
    "        Use the following pieces of context to answer the question. If you don't know the answer, just say that you don't know, don't try to make up an answer.\n",
    "        \n",
    "        {context}\n",
    "\n",
    "        Question: {question}\n",
    "        Answer:[/INST]\"\"\"\n",
    "PROMPT = PromptTemplate(\n",
    "    template=prompt_template, input_variables=[\"context\", \"question\"]\n",
    ")\n",
    "\n",
    "chain_type_kwargs = {\"prompt\": PROMPT}"
   ]
  },
  {
   "cell_type": "code",
   "execution_count": 38,
   "metadata": {},
   "outputs": [],
   "source": [
    "retriever = db.as_retriever()\n",
    "\n",
    "qa = RetrievalQA.from_chain_type(\n",
    "    llm=llm, \n",
    "    chain_type=\"stuff\", \n",
    "    retriever=retriever,\n",
    "    chain_type_kwargs=chain_type_kwargs,\n",
    "    verbose=True\n",
    ")"
   ]
  },
  {
   "cell_type": "code",
   "execution_count": 39,
   "metadata": {},
   "outputs": [
    {
     "name": "stdout",
     "output_type": "stream",
     "text": [
      "\n",
      "\n",
      "\u001b[1m> Entering new RetrievalQA chain...\u001b[0m\n",
      "\n",
      "\u001b[1m> Finished chain.\u001b[0m\n",
      " The Gateway API is used to manage and configure ingress controllers in Kubernetes. It allows you to define and manage ingress resources, such as services and routes, and to configure the behavior of ingress controllers.\n",
      "\n",
      "You should use the Gateway API when you need to manage and configure ingress resources in your Kubernetes cluster. This might include defining routes for incoming traffic, configuring load balancing and security policies, and managing the behavior of ingress controllers.\n",
      "\n",
      "It's important to note that the Gateway API is still in the experimental phase and may not be suitable for all use cases. Additionally, it requires the use of an ingress controller, which may not be available in all environments.\n"
     ]
    }
   ],
   "source": [
    "result = qa.run(\"When should I use the Gateway API?\")\n",
    "print(result)"
   ]
  }
 ],
 "metadata": {
  "kernelspec": {
   "display_name": "Python 3",
   "language": "python",
   "name": "python3"
  },
  "language_info": {
   "codemirror_mode": {
    "name": "ipython",
    "version": 3
   },
   "file_extension": ".py",
   "mimetype": "text/x-python",
   "name": "python",
   "nbconvert_exporter": "python",
   "pygments_lexer": "ipython3",
   "version": "3.10.7"
  },
  "orig_nbformat": 4
 },
 "nbformat": 4,
 "nbformat_minor": 2
}
